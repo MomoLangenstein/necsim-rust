{
 "cells": [
  {
   "cell_type": "code",
   "execution_count": null,
   "metadata": {},
   "outputs": [],
   "source": [
    "import re\n",
    "\n",
    "BIODIVERSITY_PATTERN = re.compile(r\"biodiversity of (\\d+) unique species\")\n",
    "STDOUT_FILE_PATTERN = re.compile(r\"stdout_([^_]+)_([^_]+)_([^_]+)_([^_]+)_([^_]+)_(.+)\\.txt\")"
   ]
  },
  {
   "cell_type": "code",
   "execution_count": null,
   "metadata": {},
   "outputs": [],
   "source": [
    "import numpy as np\n",
    "from scipy import stats\n",
    "from matplotlib import pyplot as plt\n",
    "import os\n",
    "from collections import defaultdict\n",
    "from pathlib import Path\n",
    "import scipy.special as sp\n",
    "from itertools import product\n",
    "from scipy.stats import norm"
   ]
  },
  {
   "cell_type": "code",
   "execution_count": null,
   "metadata": {},
   "outputs": [],
   "source": [
    "def preston(A_on_sigma_sq, nu):\n",
    "    a = np.sqrt(A_on_sigma_sq / np.pi)\n",
    "    \n",
    "    nu_eff = nu * np.log(1.0 / nu) / (1.0 - nu)\n",
    "    \n",
    "    num = 2.0 * np.pi * a * (1.0 - nu_eff) * sp.i1e(a)\n",
    "    \n",
    "    denom = (1.0 / np.sqrt(nu_eff)) * sp.i1e(a) * sp.k0e(np.sqrt(nu_eff) * a) / sp.k1e(np.sqrt(nu_eff) * a) + sp.i0e(a)\n",
    "    \n",
    "    return (nu_eff * A_on_sigma_sq + num / denom)\n",
    "\n",
    "def s_contig(A_eff, deme, nu, sigma_sq):\n",
    "    return sigma_sq * preston(A_eff * deme / sigma_sq, nu)\n",
    "\n",
    "def s_island(A_eff, deme, nu):\n",
    "    theta_A_eff = (deme * A_eff - 1.0) * nu / (1.0 - nu)\n",
    "    \n",
    "    return theta_A_eff * (sp.digamma(theta_A_eff + deme * A_eff) - sp.digamma(theta_A_eff))\n",
    "\n",
    "def s_island_limit(A_eff, deme, nu):\n",
    "    return ((A_eff * deme - 1.0) * nu * np.log(1.0 / nu)) / (1.0 - nu)"
   ]
  },
  {
   "cell_type": "code",
   "execution_count": null,
   "metadata": {},
   "outputs": [],
   "source": [
    "biodiversities = defaultdict(dict)\n",
    "\n",
    "for root, dirs, files in os.walk(\"output_v2\"):\n",
    "    root = Path(root)\n",
    "    \n",
    "    for file in files:\n",
    "        match = STDOUT_FILE_PATTERN.match(file)\n",
    "        \n",
    "        if match is None:\n",
    "            continue\n",
    "        \n",
    "        algorithm = match.group(1)\n",
    "        seed = int(match.group(2))\n",
    "        spec = float(match.group(3))\n",
    "        sample = float(match.group(4))\n",
    "        area = int(match.group(5))\n",
    "        deme = int(match.group(6))\n",
    "        \n",
    "        with open(root / file, 'r') as file:\n",
    "            biodiversities[(algorithm, spec, sample, area, deme)][seed] = int(BIODIVERSITY_PATTERN.search(file.read()).group(1))\n",
    "    \n",
    "    break\n",
    "\n",
    "biodiversities = dict(sorted(biodiversities.items(), key=lambda kv: kv[0][::-1]))"
   ]
  },
  {
   "cell_type": "code",
   "execution_count": null,
   "metadata": {},
   "outputs": [],
   "source": [
    "def confidenceInterval(a, conf=0.95):\n",
    "    mean = np.mean(a)\n",
    "    sem = stats.sem(a)\n",
    "    \n",
    "    t = stats.t.ppf((1.0 + conf) * 0.5, len(a) - 1)\n",
    "    \n",
    "    return mean - t*sem, mean + t*sem"
   ]
  },
  {
   "cell_type": "code",
   "execution_count": null,
   "metadata": {},
   "outputs": [],
   "source": [
    "conf = 0.95\n",
    "\n",
    "for key, values in biodiversities.items():\n",
    "    values = tuple(values.values())\n",
    "    \n",
    "    low, high = confidenceInterval(values)\n",
    "    \n",
    "    algorithm, spec, sample, area, deme = key\n",
    "    \n",
    "    minval = np.min(values)\n",
    "    maxval = np.max(values)\n",
    "    \n",
    "    plt.title(\"Non-Spatial Validation:\\n\\n\"\n",
    "              + f\"{algorithm} algorithm with:\\nnu={spec}, sample={sample}, A={area}, deme={deme}:\\n\\n\"\n",
    "              + f\"Measured result ({len(values)} runs): {round((low + high) * 0.5, 2)} ± \"\n",
    "              + f\"{round((high - low) * 0.5, 2)} ({conf} level)\\nTheoretical Result: \"\n",
    "              + f\"{round(s_island(area, deme, spec), 2)}\"\n",
    "             )\n",
    "    plt.xlabel(\"biodiversity\")\n",
    "    plt.ylabel(\"absolute frequency\")\n",
    "    plt.hist(values, bins = min(20, maxval - minval + 1), density=True)\n",
    "    plt.axvline(x=s_island(area, deme, spec), color='red')\n",
    "\n",
    "    mu, std = norm.fit(values)\n",
    "    xmin, xmax = plt.xlim()\n",
    "    x = np.linspace(xmin, xmax, 100)\n",
    "    p = norm.pdf(x, mu, std)\n",
    "    plt.plot(x, p, 'k', linewidth=2)\n",
    "    \n",
    "    plt.show()"
   ]
  },
  {
   "cell_type": "code",
   "execution_count": null,
   "metadata": {},
   "outputs": [],
   "source": []
  }
 ],
 "metadata": {
  "kernelspec": {
   "display_name": "Python 3",
   "language": "python",
   "name": "python3"
  },
  "language_info": {
   "codemirror_mode": {
    "name": "ipython",
    "version": 3
   },
   "file_extension": ".py",
   "mimetype": "text/x-python",
   "name": "python",
   "nbconvert_exporter": "python",
   "pygments_lexer": "ipython3",
   "version": "3.8.5"
  }
 },
 "nbformat": 4,
 "nbformat_minor": 4
}
