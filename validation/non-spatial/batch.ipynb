{
 "cells": [
  {
   "cell_type": "code",
   "execution_count": null,
   "metadata": {},
   "outputs": [],
   "source": [
    "from multiprocessing import Pool\n",
    "import subprocess\n",
    "from itertools import product\n",
    "import random\n",
    "import numpy as np\n",
    "from tqdm import tqdm"
   ]
  },
  {
   "cell_type": "code",
   "execution_count": null,
   "metadata": {},
   "outputs": [],
   "source": [
    "def run_simulation(seed, spec, sample, algorithm, area, deme):\n",
    "    with open(f'output/stdout_{algorithm}_{seed}_{spec}_{sample}_{area}_{deme}.txt', 'w') as output:\n",
    "        subprocess.run(\n",
    "            (f'../../target/release/rustcoalescence --algorithm {algorithm} --sample {sample} ' +\n",
    "             f'--seed {seed} --speciation {spec} non-spatial {area} {deme}'),\n",
    "            shell=True,\n",
    "            stdout=output,\n",
    "            stderr=subprocess.STDOUT,\n",
    "        )"
   ]
  },
  {
   "cell_type": "code",
   "execution_count": null,
   "metadata": {},
   "outputs": [],
   "source": [
    "rng = np.random.RandomState(np.random.MT19937(np.random.SeedSequence(9378470445410382301)))\n",
    "\n",
    "algos = [\"classical\", \"gillespie\", \"skippinggillespie\"]\n",
    "specs = [0.001, 0.0001, 0.00001]\n",
    "areas = [1000]\n",
    "demes = [1000]\n",
    "seeds = rng.randint(0, np.iinfo('uint64').max, dtype='uint64', size=10)\n",
    "\n",
    "jobs = list(product(algos, specs, areas, demes, seeds))\n",
    "\n",
    "random.shuffle(jobs)\n",
    "\n",
    "with tqdm(total=len(jobs)) as progress:\n",
    "    def update_progress(_):\n",
    "        progress.update()\n",
    "    \n",
    "    with Pool(40) as pool:\n",
    "        for algorithm, spec, area, deme, seed in jobs:\n",
    "            pool.apply_async(run_simulation, (seed, spec, 1.0, algorithm, area, deme), {}, update_progress, update_progress)\n",
    "\n",
    "        pool.close()\n",
    "        pool.join()"
   ]
  },
  {
   "cell_type": "code",
   "execution_count": null,
   "metadata": {},
   "outputs": [],
   "source": []
  }
 ],
 "metadata": {
  "kernelspec": {
   "display_name": "Python 3",
   "language": "python",
   "name": "python3"
  },
  "language_info": {
   "codemirror_mode": {
    "name": "ipython",
    "version": 3
   },
   "file_extension": ".py",
   "mimetype": "text/x-python",
   "name": "python",
   "nbconvert_exporter": "python",
   "pygments_lexer": "ipython3",
   "version": "3.6.9"
  }
 },
 "nbformat": 4,
 "nbformat_minor": 4
}
