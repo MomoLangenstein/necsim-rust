{
 "cells": [
  {
   "cell_type": "code",
   "execution_count": 1,
   "metadata": {},
   "outputs": [],
   "source": [
    "import numpy as np\n",
    "from matplotlib import pyplot as plt\n",
    "from scipy.stats import binom\n",
    "from matplotlib.colors import LinearSegmentedColormap"
   ]
  },
  {
   "cell_type": "code",
   "execution_count": 2,
   "metadata": {},
   "outputs": [],
   "source": [
    "from abc import ABC, abstractmethod\n",
    "\n",
    "class RNG(ABC):\n",
    "    @abstractmethod\n",
    "    def __init__(self, seed):\n",
    "        pass\n",
    "    \n",
    "    @abstractmethod\n",
    "    def sample_u64(self):\n",
    "        pass\n",
    "    \n",
    "    @abstractmethod\n",
    "    def prime_with(self, location_index, time_index):\n",
    "        pass"
   ]
  },
  {
   "cell_type": "code",
   "execution_count": 3,
   "metadata": {},
   "outputs": [],
   "source": [
    "class FixedSeaHash(RNG):\n",
    "    def __init__(self, seed):\n",
    "        self.seed = np.uint64(seed)\n",
    "        self.state = np.uint64(seed)\n",
    "        self.location_index = np.uint64(0)\n",
    "        self.time_index = np.uint64(0)\n",
    "    \n",
    "    def sample_u64(self):\n",
    "        self.state = FixedSeaHash.diffuse(FixedSeaHash.diffuse(self.state ^ self.location_index) ^ self.time_index) ^ self.seed\n",
    "\n",
    "        return self.state\n",
    "    \n",
    "    def prime_with(self, location_index, time_index):\n",
    "        self.location_index = np.uint64(location_index)\n",
    "        self.time_index = np.uint64(time_index)\n",
    "        \n",
    "    def diffuse(x):\n",
    "        x = np.uint64(x) * np.uint64(0x6eed_0e9d_a4d9_4a4f)\n",
    "        \n",
    "        a = x >> np.uint64(32)\n",
    "        b = x >> np.uint64(60)\n",
    "        \n",
    "        x = x ^ (a >> b)\n",
    "        \n",
    "        return x * np.uint64(0x6eed_0e9d_a4d9_4a4f)"
   ]
  },
  {
   "cell_type": "code",
   "execution_count": 4,
   "metadata": {},
   "outputs": [],
   "source": [
    "class FixedSeaHash2(RNG):\n",
    "    def __init__(self, seed):\n",
    "        self.seed = FixedSeaHash.diffuse(np.uint64(seed) ^ np.uint64(0x16f11fe89b0d677c))\n",
    "        \n",
    "        self.a = self.seed\n",
    "        self.b = np.uint64(0xb480a793d8e6c86c)\n",
    "        self.c = np.uint64(0x6fe2e5aaf078ebc9)\n",
    "        self.d = np.uint64(0x14f994a4c5259381)\n",
    "    \n",
    "    def sample_u64(self):\n",
    "        a = FixedSeaHash.diffuse(self.a ^ self.b ^ self.c ^ self.d)\n",
    "        \n",
    "        self.a = self.b\n",
    "        self.b = self.c\n",
    "        self.c = self.d\n",
    "        self.d = a\n",
    "        \n",
    "        return a\n",
    "    \n",
    "    def prime_with(self, location_index, time_index):\n",
    "        self.a = self.seed\n",
    "        self.b = FixedSeaHash.diffuse(np.uint64(location_index) ^ np.uint64(0xb480a793d8e6c86c))\n",
    "        self.c = FixedSeaHash.diffuse(np.uint64(time_index) ^ np.uint64(0x6fe2e5aaf078ebc9))\n",
    "        self.d = np.uint64(0x14f994a4c5259381)"
   ]
  },
  {
   "cell_type": "code",
   "execution_count": 5,
   "metadata": {},
   "outputs": [],
   "source": [
    "class FixedSeaHash3(RNG):\n",
    "    def __init__(self, seed):\n",
    "        self.seed = np.uint64(seed)\n",
    "        self.weyl = np.uint64(0)\n",
    "        \n",
    "        self.state = self.seed\n",
    "    \n",
    "    def sample_u64(self):\n",
    "        self.weyl += np.uint64(0xb5ad4eceda1ce2a9)\n",
    "        \n",
    "        self.state = FixedSeaHash.diffuse(self.state) + self.weyl\n",
    "        \n",
    "        return self.state\n",
    "    \n",
    "    def prime_with(self, location_index, time_index):\n",
    "        self.state = FixedSeaHash.diffuse(self.seed ^ location_index) ^ time_index"
   ]
  },
  {
   "cell_type": "code",
   "execution_count": 6,
   "metadata": {},
   "outputs": [
    {
     "name": "stderr",
     "output_type": "stream",
     "text": [
      "/home/ml5717/venv/lib/python3.6/site-packages/ipykernel_launcher.py:25: RuntimeWarning: overflow encountered in ulong_scalars\n",
      "/home/ml5717/venv/lib/python3.6/site-packages/ipykernel_launcher.py:18: RuntimeWarning: overflow encountered in ulong_scalars\n"
     ]
    },
    {
     "data": {
      "image/png": "[encoded data removed]",
      "text/plain": [
       "<Figure size 432x288 with 1 Axes>"
      ]
     },
     "metadata": {
      "needs_background": "light"
     },
     "output_type": "display_data"
    }
   ],
   "source": [
    "rng = FixedSeaHash(1)\n",
    "\n",
    "plt.hist([rng.sample_u64() for _ in range(1_000_000)], bins=1000)\n",
    "\n",
    "plt.show()"
   ]
  },
  {
   "cell_type": "code",
   "execution_count": 7,
   "metadata": {},
   "outputs": [
    {
     "name": "stderr",
     "output_type": "stream",
     "text": [
      "/home/ml5717/venv/lib/python3.6/site-packages/ipykernel_launcher.py:18: RuntimeWarning: overflow encountered in ulong_scalars\n",
      "/home/ml5717/venv/lib/python3.6/site-packages/ipykernel_launcher.py:25: RuntimeWarning: overflow encountered in ulong_scalars\n"
     ]
    },
    {
     "data": {
      "image/png": "[encoded data removed]",
      "text/plain": [
       "<Figure size 432x288 with 1 Axes>"
      ]
     },
     "metadata": {
      "needs_background": "light"
     },
     "output_type": "display_data"
    }
   ],
   "source": [
    "rng = FixedSeaHash2(0x16f11fe89b0d677c)\n",
    "\n",
    "plt.hist([rng.sample_u64() for _ in range(1_000_000)], bins=1000)\n",
    "\n",
    "plt.show()"
   ]
  },
  {
   "cell_type": "code",
   "execution_count": 8,
   "metadata": {},
   "outputs": [
    {
     "name": "stderr",
     "output_type": "stream",
     "text": [
      "/home/ml5717/venv/lib/python3.6/site-packages/ipykernel_launcher.py:9: RuntimeWarning: overflow encountered in ulong_scalars\n",
      "  if __name__ == '__main__':\n",
      "/home/ml5717/venv/lib/python3.6/site-packages/ipykernel_launcher.py:18: RuntimeWarning: overflow encountered in ulong_scalars\n",
      "/home/ml5717/venv/lib/python3.6/site-packages/ipykernel_launcher.py:25: RuntimeWarning: overflow encountered in ulong_scalars\n",
      "/home/ml5717/venv/lib/python3.6/site-packages/ipykernel_launcher.py:11: RuntimeWarning: overflow encountered in ulong_scalars\n",
      "  # This is added back by InteractiveShellApp.init_path()\n"
     ]
    },
    {
     "data": {
      "image/png": "[encoded data removed]",
      "text/plain": [
       "<Figure size 432x288 with 1 Axes>"
      ]
     },
     "metadata": {
      "needs_background": "light"
     },
     "output_type": "display_data"
    }
   ],
   "source": [
    "rng = FixedSeaHash3(0)\n",
    "\n",
    "plt.hist([rng.sample_u64() for _ in range(1_000_000)], bins=1000)\n",
    "\n",
    "plt.show()"
   ]
  },
  {
   "cell_type": "code",
   "execution_count": 9,
   "metadata": {},
   "outputs": [],
   "source": [
    "np_rng = np.random.RandomState(\n",
    "    np.random.MT19937(np.random.SeedSequence(9378470445410382301))\n",
    ")\n",
    "\n",
    "integers = np_rng.randint(0, np.iinfo(\"uint64\").max + 1, dtype=\"uint64\", size=1_000_000)\n",
    "bitflips = np_rng.randint(0, 64, dtype=\"uint64\", size=1_000_000)\n",
    "\n",
    "fli_ints = integers ^ (np.uint64(0x1) << bitflips)"
   ]
  },
  {
   "cell_type": "code",
   "execution_count": 10,
   "metadata": {},
   "outputs": [],
   "source": [
    "lookuptable = np.array([bin(i).count('1') for i in range(256)]).astype(np.int32)\n",
    "\n",
    "def countbits(v):\n",
    "    assert v.dtype in (np.uint8, np.uint16, np.uint32, np.uint64), 'must be an unsigned int dtype'\n",
    "    \n",
    "    return lookuptable[np.reshape(v.view(np.uint8), v.shape + (-1, ))].sum(axis=-1)\n",
    "\n",
    "np.countbits = countbits"
   ]
  },
  {
   "cell_type": "code",
   "execution_count": 11,
   "metadata": {},
   "outputs": [],
   "source": [
    "def rhash(x):\n",
    "    return FixedSeaHash.diffuse(x)\n",
    "\n",
    "vhash = np.vectorize(rhash)"
   ]
  },
  {
   "cell_type": "code",
   "execution_count": 12,
   "metadata": {},
   "outputs": [
    {
     "name": "stderr",
     "output_type": "stream",
     "text": [
      "/home/ml5717/venv/lib/python3.6/site-packages/ipykernel_launcher.py:18: RuntimeWarning: overflow encountered in ulong_scalars\n",
      "/home/ml5717/venv/lib/python3.6/site-packages/ipykernel_launcher.py:25: RuntimeWarning: overflow encountered in ulong_scalars\n",
      "/home/ml5717/venv/lib/python3.6/site-packages/numpy/lib/function_base.py:2192: RuntimeWarning: overflow encountered in ? (vectorized)\n",
      "  outputs = ufunc(*inputs)\n"
     ]
    }
   ],
   "source": [
    "hash_before = vhash(integers)\n",
    "hash_after = vhash(fli_ints)"
   ]
  },
  {
   "cell_type": "code",
   "execution_count": 13,
   "metadata": {},
   "outputs": [],
   "source": [
    "def hamming(x, y):\n",
    "    return np.countbits(x ^ y)"
   ]
  },
  {
   "cell_type": "code",
   "execution_count": 14,
   "metadata": {},
   "outputs": [
    {
     "data": {
      "image/png": "[encoded data removed]",
      "text/plain": [
       "<Figure size 432x288 with 1 Axes>"
      ]
     },
     "metadata": {
      "needs_background": "light"
     },
     "output_type": "display_data"
    }
   ],
   "source": [
    "plt.hist(hamming(hash_before, hash_after), range=(0, 64), bins=65, density=True)\n",
    "\n",
    "x = np.linspace(0, 64, 65)\n",
    "p = binom.pmf(x, 64, 0.5)\n",
    "plt.plot(x, p, 'k', linewidth=2)\n",
    "\n",
    "plt.show()"
   ]
  },
  {
   "cell_type": "code",
   "execution_count": 15,
   "metadata": {},
   "outputs": [
    {
     "name": "stdout",
     "output_type": "stream",
     "text": [
      "0.499957609375\n"
     ]
    }
   ],
   "source": [
    "print(np.mean(hamming(hash_before, hash_after)) / 64)"
   ]
  },
  {
   "cell_type": "code",
   "execution_count": 16,
   "metadata": {},
   "outputs": [],
   "source": [
    "bit_dependence = np.zeros(shape=(64, 64), dtype=\"uint64\")\n",
    "bit_normalisation = np.zeros(shape=(64), dtype=\"uint64\")\n",
    "\n",
    "for bit, before, after in zip(bitflips, hash_before, hash_after):\n",
    "    bit_normalisation[bit] += 1\n",
    "    \n",
    "    difference = before ^ after\n",
    "    \n",
    "    mask = np.uint64(0x1)\n",
    "    \n",
    "    for b in range(0, 64):\n",
    "        if difference & mask:\n",
    "            bit_dependence[bit, b] += 1\n",
    "        \n",
    "        mask <<= np.uint64(1)"
   ]
  },
  {
   "cell_type": "code",
   "execution_count": 17,
   "metadata": {},
   "outputs": [],
   "source": [
    "avalanche_probability_vector = bit_dependence.sum(axis=0) / integers.size"
   ]
  },
  {
   "cell_type": "code",
   "execution_count": 18,
   "metadata": {},
   "outputs": [
    {
     "name": "stdout",
     "output_type": "stream",
     "text": [
      "64\n"
     ]
    }
   ],
   "source": [
    "# Satisfied iff == 64\n",
    "avalanche_dependence = 64 - np.sum(avalanche_probability_vector == 0.0)\n",
    "print(avalanche_dependence)"
   ]
  },
  {
   "cell_type": "code",
   "execution_count": 19,
   "metadata": {},
   "outputs": [
    {
     "name": "stdout",
     "output_type": "stream",
     "text": [
      "31.997287\n"
     ]
    }
   ],
   "source": [
    "# Satisfied iff ~~ 32\n",
    "avalanche_weight = np.sum(avalanche_probability_vector)\n",
    "print(avalanche_weight)"
   ]
  },
  {
   "cell_type": "code",
   "execution_count": 20,
   "metadata": {},
   "outputs": [
    {
     "name": "stdout",
     "output_type": "stream",
     "text": [
      "63.99993240559017\n"
     ]
    }
   ],
   "source": [
    "# Satisfied iff ~~ 64\n",
    "avalanche_entropy = np.sum(\n",
    "    -avalanche_probability_vector * np.log2(avalanche_probability_vector)\n",
    "    -(1.0 - avalanche_probability_vector) * np.log2(1.0 - avalanche_probability_vector)\n",
    ")\n",
    "print(avalanche_entropy)"
   ]
  },
  {
   "cell_type": "code",
   "execution_count": 21,
   "metadata": {},
   "outputs": [],
   "source": [
    "\"\"\" https://towardsdatascience.com/beautiful-custom-colormaps-with-matplotlib-5bab3d1f0e72 \"\"\"\n",
    "\n",
    "def hex_to_rgb(value):\n",
    "    '''\n",
    "    Converts hex to rgb colours\n",
    "    value: string of 6 characters representing a hex colour.\n",
    "    Returns: list length 3 of RGB values'''\n",
    "    value = value.strip(\"#\") # removes hash symbol if present\n",
    "    lv = len(value)\n",
    "    return tuple(int(value[i:i + lv // 3], 16) for i in range(0, lv, lv // 3))\n",
    "\n",
    "\n",
    "def rgb_to_dec(value):\n",
    "    '''\n",
    "    Converts rgb to decimal colours (i.e. divides each value by 256)\n",
    "    value: list (length 3) of RGB values\n",
    "    Returns: list (length 3) of decimal values'''\n",
    "    return [v/256 for v in value]\n",
    "\n",
    "def get_continuous_cmap(hex_list, float_list=None):\n",
    "    ''' creates and returns a color map that can be used in heat map figures.\n",
    "        If float_list is not provided, colour map graduates linearly between each color in hex_list.\n",
    "        If float_list is provided, each color in hex_list is mapped to the respective location in float_list. \n",
    "        \n",
    "        Parameters\n",
    "        ----------\n",
    "        hex_list: list of hex code strings\n",
    "        float_list: list of floats between 0 and 1, same length as hex_list. Must start with 0 and end with 1.\n",
    "        \n",
    "        Returns\n",
    "        ----------\n",
    "        colour map'''\n",
    "    rgb_list = [rgb_to_dec(hex_to_rgb(i)) for i in hex_list]\n",
    "    if float_list:\n",
    "        pass\n",
    "    else:\n",
    "        float_list = list(np.linspace(0,1,len(rgb_list)))\n",
    "        \n",
    "    cdict = dict()\n",
    "    for num, col in enumerate(['red', 'green', 'blue']):\n",
    "        col_list = [[float_list[i], rgb_list[i][num], rgb_list[i][num]] for i in range(len(float_list))]\n",
    "        cdict[col] = col_list\n",
    "    cmp = LinearSegmentedColormap('my_cmp', segmentdata=cdict, N=256)\n",
    "    return cmp"
   ]
  },
  {
   "cell_type": "code",
   "execution_count": 22,
   "metadata": {},
   "outputs": [],
   "source": [
    "cmap = get_continuous_cmap(['#000000', '#FF0000'])"
   ]
  },
  {
   "cell_type": "code",
   "execution_count": 23,
   "metadata": {},
   "outputs": [
    {
     "data": {
      "image/png": "[encoded data removed]",
      "text/plain": [
       "<Figure size 576x576 with 1 Axes>"
      ]
     },
     "metadata": {
      "needs_background": "light"
     },
     "output_type": "display_data"
    }
   ],
   "source": [
    "plt.figure(figsize=(8, 8))\n",
    "\n",
    "plt.matshow(bit_dependence / bit_normalisation.reshape((64, 1)), cmap=cmap, vmin=0.0, vmax=1.0, fignum=1)\n",
    "\n",
    "plt.show()"
   ]
  },
  {
   "cell_type": "code",
   "execution_count": null,
   "metadata": {},
   "outputs": [],
   "source": []
  }
 ],
 "metadata": {
  "kernelspec": {
   "display_name": "Python 3",
   "language": "python",
   "name": "python3"
  },
  "language_info": {
   "codemirror_mode": {
    "name": "ipython",
    "version": 3
   },
   "file_extension": ".py",
   "mimetype": "text/x-python",
   "name": "python",
   "nbconvert_exporter": "python",
   "pygments_lexer": "ipython3",
   "version": "3.6.9"
  }
 },
 "nbformat": 4,
 "nbformat_minor": 4
}
