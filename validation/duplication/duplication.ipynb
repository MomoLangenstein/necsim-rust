{
 "cells": [
  {
   "cell_type": "code",
   "execution_count": null,
   "metadata": {},
   "outputs": [],
   "source": [
    "import csv\n",
    "\n",
    "from collections import Counter, defaultdict\n",
    "from matplotlib import pyplot as plt"
   ]
  },
  {
   "cell_type": "code",
   "execution_count": null,
   "metadata": {},
   "outputs": [],
   "source": [
    "multiset = Counter()\n",
    "\n",
    "last_individual_time = defaultdict(float)\n",
    "duplicate_individuals = set()\n",
    "last_unique_time = defaultdict(float)\n",
    "\n",
    "with open('events_im_10-3x2.5-5.csv') as file:\n",
    "    reader = iter(csv.reader(file))\n",
    "    next(reader)\n",
    "    \n",
    "    for row in reader:\n",
    "        reference = int(row[0])\n",
    "        event_time = float(row[1])\n",
    "        x = int(row[2])\n",
    "        y = int(row[3])\n",
    "        index = int(row[4])\n",
    "        \n",
    "        event = (event_time, (x, y, index))\n",
    "        \n",
    "        multiset.update([event])\n",
    "        \n",
    "        last_individual_time[reference] = event_time\n",
    "        \n",
    "        if multiset[event] > 1:\n",
    "            if reference not in duplicate_individuals:\n",
    "                duplicate_individuals.add(reference)\n",
    "                \n",
    "                last_unique_time[reference] = event_time\n",
    "        elif reference not in duplicate_individuals:\n",
    "            last_unique_time[reference] = event_time"
   ]
  },
  {
   "cell_type": "code",
   "execution_count": null,
   "metadata": {},
   "outputs": [],
   "source": [
    "times = [event[0] for event in multiset.elements() if event[0] > 0]\n",
    "\n",
    "plt.figure(figsize=(10, 5))\n",
    "\n",
    "plt.hist(times, bins=int(max(times)-min(times))//2)\n",
    "\n",
    "plt.xscale('linear')\n",
    "plt.yscale('linear')\n",
    "\n",
    "plt.title('Histogram of the number of events over time (linear-linear)')\n",
    "plt.xlabel('model time')\n",
    "plt.ylabel('number of events')\n",
    "\n",
    "plt.show()\n",
    "\n",
    "plt.figure(figsize=(10, 5))\n",
    "\n",
    "plt.hist(times, bins=int(max(times)-min(times))//2)\n",
    "\n",
    "plt.xscale('log')\n",
    "plt.yscale('log')\n",
    "\n",
    "plt.title('Histogram of the number of events over time (log-log)')\n",
    "plt.xlabel('model time')\n",
    "plt.ylabel('number of events')\n",
    "\n",
    "plt.show()"
   ]
  },
  {
   "cell_type": "code",
   "execution_count": null,
   "metadata": {},
   "outputs": [],
   "source": [
    "total_individuals = len(last_individual_time)\n",
    "\n",
    "final_times = sorted(last_individual_time.values())\n",
    "earliest_times = sorted(last_unique_time[ref] for ref in last_individual_time.keys())\n",
    "\n",
    "plt.figure(figsize=(10, 5))\n",
    "\n",
    "plt.plot([0] + earliest_times, range(total_individuals, -1, -1), label='optimal', linewidth=3)\n",
    "plt.plot([0] + final_times, range(total_individuals, -1, -1), label='simulation', linestyle=':', linewidth=3)\n",
    "\n",
    "plt.xscale('linear')\n",
    "plt.yscale('linear')\n",
    "\n",
    "plt.title('Plot of the number of remaining individuals over time (linear-linear)')\n",
    "plt.xlabel('model time')\n",
    "plt.ylabel('number of remaining individuals')\n",
    "\n",
    "plt.legend()\n",
    "plt.show()\n",
    "\n",
    "plt.figure(figsize=(10, 5))\n",
    "\n",
    "plt.plot([0] + earliest_times, range(total_individuals, -1, -1), label='optimal', linewidth=3)\n",
    "plt.plot([0] + final_times, range(total_individuals, -1, -1), label='simulation', linestyle=':', linewidth=3)\n",
    "\n",
    "plt.xscale('log')\n",
    "plt.yscale('log')\n",
    "\n",
    "plt.title('Plot of the number of remaining individuals over time (log-log)')\n",
    "plt.xlabel('model time')\n",
    "plt.ylabel('number of remaining individuals')\n",
    "\n",
    "plt.legend()\n",
    "plt.show()"
   ]
  },
  {
   "cell_type": "code",
   "execution_count": null,
   "metadata": {},
   "outputs": [],
   "source": []
  }
 ],
 "metadata": {
  "kernelspec": {
   "display_name": "Python 3",
   "language": "python",
   "name": "python3"
  },
  "language_info": {
   "codemirror_mode": {
    "name": "ipython",
    "version": 3
   },
   "file_extension": ".py",
   "mimetype": "text/x-python",
   "name": "python",
   "nbconvert_exporter": "python",
   "pygments_lexer": "ipython3",
   "version": "3.6.9"
  }
 },
 "nbformat": 4,
 "nbformat_minor": 4
}
