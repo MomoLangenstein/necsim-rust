{
 "cells": [
  {
   "cell_type": "markdown",
   "id": "8ba03726-6b87-48e7-9d5d-d0c6ca77a896",
   "metadata": {},
   "source": [
    "# \"Communication-free and Parallel Simulation of Neutral Biodiversity Models\": Interactive Demonstration"
   ]
  },
  {
   "cell_type": "code",
   "execution_count": null,
   "id": "8c3f401d-7d54-46dc-906a-e712a4c9ddb0",
   "metadata": {},
   "outputs": [],
   "source": [
    "import demo"
   ]
  },
  {
   "cell_type": "markdown",
   "id": "e25347fe-a014-4dc5-93fa-a706ada101e7",
   "metadata": {},
   "source": [
    "## Reverse-Time Simulation"
   ]
  },
  {
   "cell_type": "code",
   "execution_count": null,
   "id": "367bd13d-40c7-4c1e-8b72-24512400ac71",
   "metadata": {},
   "outputs": [],
   "source": [
    "!rustcoalescence simulate '(\n",
    "    speciation: 0.75,\n",
    "    sample: 1.0,\n",
    "    seed: 7206077791098137251,\n",
    "\n",
    "    scenario: SpatiallyExplicit(\n",
    "        habitat: \"maps/demo/habitat.tif\",\n",
    "        dispersal: \"maps/demo/dispersal.tif\",\n",
    "    ),\n",
    "    \n",
    "    algorithm: Independent(\n",
    "        dedup_cache: None,\n",
    "    ),\n",
    "    \n",
    "    reporters: [\n",
    "        Plugin(\n",
    "            library: \"plugins/demo.so\",\n",
    "            reporters: [Demo(auto: true)],\n",
    "        ),\n",
    "        Plugin(\n",
    "            library: \"plugins/common.so\",\n",
    "            reporters: [Biodiversity()],\n",
    "        ),\n",
    "    ],\n",
    ")'"
   ]
  },
  {
   "cell_type": "markdown",
   "id": "23d44b21-c652-4099-bd87-b9dcc31cd335",
   "metadata": {},
   "source": [
    "## Independent Reverse-Time Simulation"
   ]
  },
  {
   "cell_type": "code",
   "execution_count": null,
   "id": "5989a9e8-9a6d-48bc-8920-0c5044b9a5dd",
   "metadata": {},
   "outputs": [],
   "source": [
    "!rustcoalescence simulate '(\n",
    "    speciation: 0.75,\n",
    "    sample: 1.0,\n",
    "    seed: 7206077791098137251,\n",
    "\n",
    "    scenario: SpatiallyExplicit(\n",
    "        habitat: \"maps/demo/habitat.tif\",\n",
    "        dispersal: \"maps/demo/dispersal.tif\",\n",
    "    ),\n",
    "    \n",
    "    algorithm: Independent(\n",
    "        dedup_cache: None,\n",
    "        parallelism_mode: IsolatedLandscape(\n",
    "            partition: Partition(\n",
    "                rank: 2,\n",
    "                partitions: 6,\n",
    "            ),\n",
    "            event_slice: 10,\n",
    "        )\n",
    "    ),\n",
    "    \n",
    "    reporters: [\n",
    "        Plugin(\n",
    "            library: \"plugins/demo.so\",\n",
    "            reporters: [Demo(auto: true)],\n",
    "        ),\n",
    "        Plugin(\n",
    "            library: \"plugins/common.so\",\n",
    "            reporters: [Biodiversity()],\n",
    "        ),\n",
    "    ],\n",
    ")' | grep \"<[0-9]*>"
   ]
  },
  {
   "cell_type": "code",
   "execution_count": null,
   "id": "358e8b31-3f43-4244-a44a-abe3b7c806ca",
   "metadata": {},
   "outputs": [],
   "source": [
    "!rustcoalescence simulate '(\n",
    "    speciation: 0.75,\n",
    "    sample: 1.0,\n",
    "    seed: 7206077791098137251,\n",
    "\n",
    "    scenario: SpatiallyExplicit(\n",
    "        habitat: \"maps/demo/habitat.tif\",\n",
    "        dispersal: \"maps/demo/dispersal.tif\",\n",
    "    ),\n",
    "    \n",
    "    algorithm: Independent(\n",
    "        dedup_cache: None,\n",
    "        parallelism_mode: IsolatedLandscape(\n",
    "            partition: Partition(\n",
    "                rank: 3,\n",
    "                partitions: 6,\n",
    "            ),\n",
    "            event_slice: 10,\n",
    "        )\n",
    "    ),\n",
    "    \n",
    "    reporters: [\n",
    "        Plugin(\n",
    "            library: \"plugins/demo.so\",\n",
    "            reporters: [Demo(auto: true)],\n",
    "        ),\n",
    "        Plugin(\n",
    "            library: \"plugins/common.so\",\n",
    "            reporters: [Biodiversity()],\n",
    "        ),\n",
    "    ],\n",
    ")' | grep \"<[0-9]*>"
   ]
  },
  {
   "cell_type": "code",
   "execution_count": null,
   "id": "7d81f402-be33-48d6-8be4-bec13bff7574",
   "metadata": {},
   "outputs": [],
   "source": [
    "!rustcoalescence simulate '(\n",
    "    speciation: 0.75,\n",
    "    sample: 1.0,\n",
    "    seed: 7206077791098137251,\n",
    "\n",
    "    scenario: SpatiallyExplicit(\n",
    "        habitat: \"maps/demo/habitat.tif\",\n",
    "        dispersal: \"maps/demo/dispersal.tif\",\n",
    "    ),\n",
    "    \n",
    "    algorithm: Independent(\n",
    "        dedup_cache: None,\n",
    "        parallelism_mode: IsolatedLandscape(\n",
    "            partition: Partition(\n",
    "                rank: 4,\n",
    "                partitions: 6,\n",
    "            ),\n",
    "            event_slice: 10,\n",
    "        )\n",
    "    ),\n",
    "    \n",
    "    reporters: [\n",
    "        Plugin(\n",
    "            library: \"plugins/demo.so\",\n",
    "            reporters: [Demo(auto: true)],\n",
    "        ),\n",
    "        Plugin(\n",
    "            library: \"plugins/common.so\",\n",
    "            reporters: [Biodiversity()],\n",
    "        ),\n",
    "    ],\n",
    ")' | grep \"<[0-9]*>"
   ]
  },
  {
   "cell_type": "code",
   "execution_count": null,
   "id": "finished-shark",
   "metadata": {},
   "outputs": [],
   "source": []
  }
 ],
 "metadata": {
  "kernelspec": {
   "display_name": "Python 3",
   "language": "python",
   "name": "python3"
  },
  "language_info": {
   "codemirror_mode": {
    "name": "ipython",
    "version": 3
   },
   "file_extension": ".py",
   "mimetype": "text/x-python",
   "name": "python",
   "nbconvert_exporter": "python",
   "pygments_lexer": "ipython3",
   "version": "3.7.5"
  }
 },
 "nbformat": 4,
 "nbformat_minor": 5
}
