{
 "cells": [
  {
   "cell_type": "code",
   "execution_count": null,
   "id": "single-third",
   "metadata": {},
   "outputs": [],
   "source": [
    "import demo"
   ]
  },
  {
   "cell_type": "code",
   "execution_count": null,
   "id": "5989a9e8-9a6d-48bc-8920-0c5044b9a5dd",
   "metadata": {},
   "outputs": [],
   "source": [
    "!yes | target/release/rustcoalescence simulate '(\n",
    "    speciation: 0.75,\n",
    "    sample: 1.0,\n",
    "    seed: 7206077791098137251,\n",
    "\n",
    "    scenario: SpatiallyExplicit(\n",
    "        habitat: \"maps/demo/habitat.tif\",\n",
    "        dispersal: \"maps/demo/dispersal.tif\",\n",
    "    ),\n",
    "    \n",
    "    algorithm: Independent(\n",
    "        dedup_cache: None,\n",
    "    ),\n",
    "    \n",
    "    reporters: [\n",
    "        Plugin(\n",
    "            library: \"plugins/demo.so\",\n",
    "            reporters: [Demo()],\n",
    "        ),\n",
    "        Plugin(\n",
    "            library: \"plugins/common.so\",\n",
    "            reporters: [Biodiversity()],\n",
    "        ),\n",
    "    ],\n",
    ")'"
   ]
  },
  {
   "cell_type": "code",
   "execution_count": null,
   "id": "noble-customs",
   "metadata": {},
   "outputs": [],
   "source": [
    "!rustcoalescence simulate '(\n",
    "    speciation: 0.0001,\n",
    "    sample: 1.0,\n",
    "    seed: 42,\n",
    "\n",
    "    scenario: NonSpatial(\n",
    "        area: (100, 100),\n",
    "        deme: 100,\n",
    "    ),\n",
    "    \n",
    "    algorithm: Classical(),\n",
    "    \n",
    "    reporters: [\n",
    "        Plugin(\n",
    "            library: \"plugins/common.so\",\n",
    "            reporters: [Execution(), Progress(), Biodiversity()],\n",
    "        ),\n",
    "    ],\n",
    ")'"
   ]
  },
  {
   "cell_type": "code",
   "execution_count": null,
   "id": "postal-memphis",
   "metadata": {},
   "outputs": [],
   "source": [
    "!mpiexec -n 8 rustcoalescence simulate '(\n",
    "    speciation: 0.0001,\n",
    "    sample: 1.0,\n",
    "    seed: 42,\n",
    "\n",
    "    scenario: NonSpatial(\n",
    "        area: (100, 100),\n",
    "        deme: 100,\n",
    "    ),\n",
    "    \n",
    "    algorithm: Classical(),\n",
    "        \n",
    "    log: \"event-log\",\n",
    "    \n",
    "    reporters: [\n",
    "        Plugin(\n",
    "            library: \"plugins/common.so\",\n",
    "            reporters: [Execution(), Progress(), Biodiversity()],\n",
    "        ),\n",
    "    ],\n",
    ")'\n",
    "\n",
    "!rustcoalescence replay '(\n",
    "    logs: [ \"event-log/*/*\" ],\n",
    "\n",
    "    reporters: [\n",
    "        Plugin(\n",
    "            library: \"plugins/common.so\",\n",
    "            reporters: [Execution(), Progress(), Biodiversity()],\n",
    "        ),\n",
    "    ],\n",
    ")'"
   ]
  },
  {
   "cell_type": "code",
   "execution_count": null,
   "id": "finished-shark",
   "metadata": {},
   "outputs": [],
   "source": []
  }
 ],
 "metadata": {
  "kernelspec": {
   "display_name": "Python 3",
   "language": "python",
   "name": "python3"
  },
  "language_info": {
   "codemirror_mode": {
    "name": "ipython",
    "version": 3
   },
   "file_extension": ".py",
   "mimetype": "text/x-python",
   "name": "python",
   "nbconvert_exporter": "python",
   "pygments_lexer": "ipython3",
   "version": "3.7.5"
  }
 },
 "nbformat": 4,
 "nbformat_minor": 5
}
